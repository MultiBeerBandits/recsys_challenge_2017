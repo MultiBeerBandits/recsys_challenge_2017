{
 "cells": [
  {
   "cell_type": "markdown",
   "metadata": {},
   "source": [
    "# Ensemble by ranked list merging"
   ]
  },
  {
   "cell_type": "code",
   "execution_count": 1,
   "metadata": {
    "scrolled": false
   },
   "outputs": [
    {
     "name": "stdout",
     "output_type": "stream",
     "text": [
      "Dataset loaded...\n"
     ]
    }
   ],
   "source": [
    "%load_ext autoreload\n",
    "\n",
    "from os import chdir\n",
    "chdir('../')\n",
    "\n",
    "from src.utils.loader import *\n",
    "from src.utils.evaluator import Evaluator\n",
    "\n",
    "dataset = Dataset(load_tags=True,\n",
    "                  filter_tag=False,\n",
    "                  weight_tag=False)\n",
    "print(\"Dataset loaded...\")"
   ]
  },
  {
   "cell_type": "code",
   "execution_count": 2,
   "metadata": {
    "scrolled": false
   },
   "outputs": [
    {
     "name": "stdout",
     "output_type": "stream",
     "text": [
      "Models imported...\n"
     ]
    }
   ],
   "source": [
    "from src.CBF.CBF_tfidf import ContentBasedFiltering\n",
    "from src.UBF.UBF2 import UserBasedFiltering\n",
    "from src.IBF.IBF import ItemBasedFiltering\n",
    "\n",
    "print(\"Models imported...\")"
   ]
  },
  {
   "cell_type": "markdown",
   "metadata": {},
   "source": [
    "## Initialize models\n",
    "### SLIM BPR"
   ]
  },
  {
   "cell_type": "code",
   "execution_count": 1,
   "metadata": {
    "scrolled": false
   },
   "outputs": [
    {
     "name": "stderr",
     "output_type": "stream",
     "text": [
      "UsageError: Line magic function `%autoreload` not found.\n"
     ]
    }
   ],
   "source": [
    "%autoreload 2\n",
    "\n",
    "from src.ML.BPRSLIM import BPRSLIM\n",
    "from src.utils.matrix_utils import applyTfIdf, top_k_filtering\n",
    "\n",
    "import os\n",
    "dataset.set_track_attr_weights_2(1, 1, 0, 0, 0, 0, 0, 0, 0)\n",
    "ev = Evaluator(seed=False)\n",
    "ev.cross_validation(5, dataset.train_final.copy())\n",
    "\n",
    "print('Building the ICM for SLIMBPR...')\n",
    "icm = dataset.build_icm()\n",
    "\n",
    "icm_tag = dataset.build_tags_matrix()\n",
    "\n",
    "tags = applyTfIdf(icm_tag)\n",
    "\n",
    "# Before stacking tags with the rest of the ICM, we keep only\n",
    "# the top K tags for each item. This way we try to reduce the\n",
    "# natural noise added by such sparse features.\n",
    "tags = top_k_filtering(tags.transpose(), topK=55).transpose()\n",
    "tags.data = np.ones_like(tags.data)\n",
    "\n",
    "# stack all\n",
    "icm = vstack([icm, tags], format='csr')"
   ]
  },
  {
   "cell_type": "code",
   "execution_count": 4,
   "metadata": {
    "scrolled": false
   },
   "outputs": [
    {
     "name": "stdout",
     "output_type": "stream",
     "text": [
      "Building the ICM for SLIMBPR...\n",
      "Compiling in Cython...\n",
      "Compiled module saved in subfolder: /src/ML/Cython\n",
      "Compilation complete!\n"
     ]
    }
   ],
   "source": [
    "slim = BPRSLIM(epochs=30,\n",
    "               epochMultiplier=1.0,\n",
    "               sgd_mode='rmsprop',\n",
    "               learning_rate=5e-02,\n",
    "               topK=300,\n",
    "               urmSamplingChances=1 / 5,\n",
    "               icmSamplingChances=4 / 5)"
   ]
  },
  {
   "cell_type": "code",
   "execution_count": 5,
   "metadata": {
    "scrolled": false
   },
   "outputs": [
    {
     "name": "stdout",
     "output_type": "stream",
     "text": [
      "Models initialized...\n"
     ]
    }
   ],
   "source": [
    "# Initiliaze Models\n",
    "dataset.set_track_attr_weights_2(1.5, 1.6, 0.0, 0.0, 0.0,\n",
    "                                 1.0, 0.0, 0.0, 0.0)\n",
    "\n",
    "# Models\n",
    "cbf = ContentBasedFiltering()\n",
    "ibf = ItemBasedFiltering()\n",
    "\n",
    "print(\"Models initialized...\")"
   ]
  },
  {
   "cell_type": "markdown",
   "metadata": {},
   "source": [
    "### SLIM BPR Fit"
   ]
  },
  {
   "cell_type": "code",
   "execution_count": 6,
   "metadata": {
    "scrolled": true
   },
   "outputs": [
    {
     "name": "stdout",
     "output_type": "stream",
     "text": [
      "File found, retrieving urm from it.\n",
      "Load from file takes 0.69 seconds\n",
      "Running fit process.\n",
      "Processed 500000 ( 29.85% ) in 49.78 seconds. Sample per second: 10045\n",
      "Processed 1000000 ( 59.70% ) in 18.66 seconds. Sample per second: 14779\n",
      "Processed 1500000 ( 89.54% ) in 16.10 seconds. Sample per second: 18050\n",
      "Processed 1675142 ( 100.00% ) in 5.20 seconds. Sample per second: 18993\n",
      "Return S matrix to python caller...\n",
      "Epoch 0 of 30 complete in 1.79 minutes\n",
      "Processed 500000 ( 29.85% ) in 11.69 seconds. Sample per second: 42764\n",
      "Processed 1000000 ( 59.70% ) in 12.20 seconds. Sample per second: 43098\n",
      "Processed 1500000 ( 89.54% ) in 12.42 seconds. Sample per second: 42351\n",
      "Processed 1675142 ( 100.00% ) in 4.76 seconds. Sample per second: 42131\n",
      "Return S matrix to python caller...\n",
      "Epoch 1 of 30 complete in 1.08 minutes\n",
      "Processed 500000 ( 29.85% ) in 13.70 seconds. Sample per second: 36505\n",
      "Processed 1000000 ( 59.70% ) in 12.87 seconds. Sample per second: 38652\n",
      "Processed 1500000 ( 89.54% ) in 13.25 seconds. Sample per second: 39214\n",
      "Processed 1675142 ( 100.00% ) in 4.36 seconds. Sample per second: 39544\n",
      "Return S matrix to python caller...\n",
      "Epoch 2 of 30 complete in 1.35 minutes\n",
      "Processed 500000 ( 29.85% ) in 13.19 seconds. Sample per second: 37903\n",
      "Processed 1000000 ( 59.70% ) in 13.37 seconds. Sample per second: 37916\n",
      "Processed 1500000 ( 89.54% ) in 12.13 seconds. Sample per second: 39344\n",
      "Processed 1675142 ( 100.00% ) in 4.51 seconds. Sample per second: 39407\n",
      "Return S matrix to python caller...\n",
      "Epoch 3 of 30 complete in 1.43 minutes\n",
      "Processed 500000 ( 29.85% ) in 19.68 seconds. Sample per second: 25404\n",
      "Processed 1000000 ( 59.70% ) in 14.87 seconds. Sample per second: 29525\n",
      "Processed 1500000 ( 89.54% ) in 13.08 seconds. Sample per second: 32550\n",
      "Processed 1675142 ( 100.00% ) in 4.53 seconds. Sample per second: 33154\n",
      "Return S matrix to python caller...\n",
      "Epoch 4 of 30 complete in 1.63 minutes\n",
      "Processed 500000 ( 29.85% ) in 14.94 seconds. Sample per second: 33472\n",
      "Processed 1000000 ( 59.70% ) in 8.83 seconds. Sample per second: 43793\n",
      "Processed 1500000 ( 89.54% ) in 8.59 seconds. Sample per second: 49042\n",
      "Processed 1675142 ( 100.00% ) in 5.06 seconds. Sample per second: 47782\n",
      "Return S matrix to python caller...\n",
      "Epoch 5 of 30 complete in 1.31 minutes\n",
      "Processed 500000 ( 29.85% ) in 18.79 seconds. Sample per second: 26614\n",
      "Processed 1000000 ( 59.70% ) in 12.53 seconds. Sample per second: 32757\n",
      "Processed 1500000 ( 89.54% ) in 11.99 seconds. Sample per second: 35721\n",
      "Processed 1675142 ( 100.00% ) in 5.50 seconds. Sample per second: 36021\n",
      "Return S matrix to python caller...\n",
      "Epoch 6 of 30 complete in 1.48 minutes\n",
      "Processed 500000 ( 29.85% ) in 17.66 seconds. Sample per second: 28316\n",
      "Processed 1000000 ( 59.70% ) in 13.67 seconds. Sample per second: 32606\n",
      "Processed 1500000 ( 89.54% ) in 13.30 seconds. Sample per second: 34646\n",
      "Processed 1675142 ( 100.00% ) in 4.58 seconds. Sample per second: 35204\n",
      "Return S matrix to python caller...\n",
      "Epoch 7 of 30 complete in 1.53 minutes\n",
      "Processed 500000 ( 29.85% ) in 15.09 seconds. Sample per second: 33139\n",
      "Processed 1000000 ( 59.70% ) in 13.37 seconds. Sample per second: 35243\n",
      "Processed 1500000 ( 89.54% ) in 13.40 seconds. Sample per second: 36229\n",
      "Processed 1675142 ( 100.00% ) in 4.95 seconds. Sample per second: 36452\n",
      "Return S matrix to python caller...\n",
      "Epoch 8 of 30 complete in 1.54 minutes\n",
      "Processed 500000 ( 29.85% ) in 17.41 seconds. Sample per second: 28724\n",
      "Processed 1000000 ( 59.70% ) in 13.65 seconds. Sample per second: 32622\n",
      "Processed 1500000 ( 89.54% ) in 13.18 seconds. Sample per second: 34736\n",
      "Processed 1675142 ( 100.00% ) in 4.21 seconds. Sample per second: 35479\n",
      "Return S matrix to python caller...\n",
      "Epoch 9 of 30 complete in 1.59 minutes\n",
      "Processed 500000 ( 29.85% ) in 14.13 seconds. Sample per second: 35378\n",
      "Processed 1000000 ( 59.70% ) in 13.69 seconds. Sample per second: 36111\n",
      "Processed 1500000 ( 89.54% ) in 13.11 seconds. Sample per second: 37399\n",
      "Processed 1675142 ( 100.00% ) in 4.45 seconds. Sample per second: 37687\n",
      "Return S matrix to python caller...\n",
      "Evaluating recommendations\n",
      "R_hat evaluated...\n"
     ]
    },
    {
     "name": "stderr",
     "output_type": "stream",
     "text": [
      "/media/leonardoarcari/Data/Home/Development/python_projects/recsys_challenge/lib/python3.6/site-packages/scipy/sparse/compressed.py:742: SparseEfficiencyWarning: Changing the sparsity structure of a csr_matrix is expensive. lil_matrix is more efficient.\n",
      "  SparseEfficiencyWarning)\n"
     ]
    },
    {
     "name": "stdout",
     "output_type": "stream",
     "text": [
      "MAP@5: 0.09923923697504357\n",
      "Epoch 10 of 30 complete in 1.84 minutes\n",
      "Processed 500000 ( 29.85% ) in 22.61 seconds. Sample per second: 22118\n",
      "Processed 1000000 ( 59.70% ) in 14.49 seconds. Sample per second: 27403\n",
      "Processed 1500000 ( 89.54% ) in 13.63 seconds. Sample per second: 30225\n",
      "Processed 1675142 ( 100.00% ) in 5.34 seconds. Sample per second: 30827\n",
      "Return S matrix to python caller...\n",
      "Epoch 11 of 30 complete in 1.69 minutes\n",
      "Processed 500000 ( 29.85% ) in 25.37 seconds. Sample per second: 19706\n",
      "Processed 1000000 ( 59.70% ) in 13.21 seconds. Sample per second: 26168\n",
      "Processed 1500000 ( 89.54% ) in 13.38 seconds. Sample per second: 29192\n",
      "Processed 1675142 ( 100.00% ) in 4.98 seconds. Sample per second: 29923\n",
      "Return S matrix to python caller...\n",
      "Epoch 12 of 30 complete in 1.72 minutes\n",
      "Processed 500000 ( 29.85% ) in 22.78 seconds. Sample per second: 21948\n",
      "Processed 1000000 ( 59.70% ) in 13.88 seconds. Sample per second: 27868\n",
      "Processed 1500000 ( 89.54% ) in 13.60 seconds. Sample per second: 30867\n",
      "Processed 1675142 ( 100.00% ) in 5.08 seconds. Sample per second: 31560\n",
      "Return S matrix to python caller...\n",
      "Epoch 13 of 30 complete in 1.73 minutes\n",
      "Processed 500000 ( 29.85% ) in 16.75 seconds. Sample per second: 29857\n",
      "Processed 1000000 ( 59.70% ) in 10.09 seconds. Sample per second: 38330\n",
      "Processed 1500000 ( 89.54% ) in 12.40 seconds. Sample per second: 39064\n",
      "Processed 1675142 ( 100.00% ) in 4.96 seconds. Sample per second: 38991\n",
      "Return S matrix to python caller...\n",
      "Epoch 14 of 30 complete in 1.55 minutes\n",
      "Processed 500000 ( 29.85% ) in 14.13 seconds. Sample per second: 35390\n",
      "Processed 1000000 ( 59.70% ) in 15.03 seconds. Sample per second: 34450\n",
      "Processed 1500000 ( 89.54% ) in 12.88 seconds. Sample per second: 35819\n",
      "Processed 1675142 ( 100.00% ) in 5.30 seconds. Sample per second: 36182\n",
      "Return S matrix to python caller...\n",
      "Epoch 15 of 30 complete in 1.47 minutes\n",
      "Processed 500000 ( 29.85% ) in 11.69 seconds. Sample per second: 42758\n",
      "Processed 1000000 ( 59.70% ) in 14.67 seconds. Sample per second: 38954\n",
      "Processed 1500000 ( 89.54% ) in 14.21 seconds. Sample per second: 38257\n",
      "Processed 1675142 ( 100.00% ) in 4.94 seconds. Sample per second: 38123\n",
      "Return S matrix to python caller...\n",
      "Epoch 16 of 30 complete in 1.60 minutes\n",
      "Processed 500000 ( 29.85% ) in 19.24 seconds. Sample per second: 25987\n",
      "Processed 1000000 ( 59.70% ) in 15.28 seconds. Sample per second: 29169\n",
      "Processed 1500000 ( 89.54% ) in 13.53 seconds. Sample per second: 31559\n",
      "Processed 1675142 ( 100.00% ) in 5.50 seconds. Sample per second: 31906\n",
      "Return S matrix to python caller...\n",
      "Epoch 17 of 30 complete in 1.68 minutes\n",
      "Processed 500000 ( 29.85% ) in 11.00 seconds. Sample per second: 45439\n",
      "Processed 1000000 ( 59.70% ) in 13.99 seconds. Sample per second: 40013\n",
      "Processed 1500000 ( 89.54% ) in 13.92 seconds. Sample per second: 39553\n",
      "Processed 1675142 ( 100.00% ) in 5.58 seconds. Sample per second: 39343\n",
      "Return S matrix to python caller...\n",
      "Epoch 18 of 30 complete in 1.55 minutes\n",
      "Processed 500000 ( 29.85% ) in 14.84 seconds. Sample per second: 33694\n",
      "Processed 1000000 ( 59.70% ) in 8.95 seconds. Sample per second: 43570\n",
      "Processed 1500000 ( 89.54% ) in 13.61 seconds. Sample per second: 42120\n",
      "Processed 1675142 ( 100.00% ) in 5.10 seconds. Sample per second: 41774\n",
      "Return S matrix to python caller...\n",
      "Epoch 19 of 30 complete in 1.34 minutes\n",
      "Processed 500000 ( 29.85% ) in 14.42 seconds. Sample per second: 34676\n",
      "Processed 1000000 ( 59.70% ) in 14.49 seconds. Sample per second: 35106\n",
      "Processed 1500000 ( 89.54% ) in 13.58 seconds. Sample per second: 36076\n",
      "Processed 1675142 ( 100.00% ) in 5.16 seconds. Sample per second: 36288\n",
      "Return S matrix to python caller...\n",
      "Evaluating recommendations\n",
      "R_hat evaluated...\n",
      "MAP@5: 0.10006031817839131\n",
      "Epoch 20 of 30 complete in 1.96 minutes\n",
      "Processed 500000 ( 29.85% ) in 20.39 seconds. Sample per second: 24525\n",
      "Processed 1000000 ( 59.70% ) in 13.68 seconds. Sample per second: 29694\n",
      "Processed 1500000 ( 89.54% ) in 13.01 seconds. Sample per second: 32605\n",
      "Processed 1675142 ( 100.00% ) in 2.65 seconds. Sample per second: 34433\n",
      "Return S matrix to python caller...\n",
      "Epoch 21 of 30 complete in 1.53 minutes\n",
      "Processed 500000 ( 29.85% ) in 19.01 seconds. Sample per second: 26296\n",
      "Processed 1000000 ( 59.70% ) in 14.79 seconds. Sample per second: 29595\n",
      "Processed 1500000 ( 89.54% ) in 13.58 seconds. Sample per second: 32199\n",
      "Processed 1675142 ( 100.00% ) in 4.55 seconds. Sample per second: 33136\n",
      "Return S matrix to python caller...\n",
      "Epoch 22 of 30 complete in 1.67 minutes\n",
      "Processed 500000 ( 29.85% ) in 19.55 seconds. Sample per second: 25574\n",
      "Processed 1000000 ( 59.70% ) in 11.67 seconds. Sample per second: 32607\n",
      "Processed 1500000 ( 89.54% ) in 11.54 seconds. Sample per second: 36110\n",
      "Processed 1675142 ( 100.00% ) in 5.01 seconds. Sample per second: 36409\n",
      "Return S matrix to python caller...\n",
      "Epoch 23 of 30 complete in 1.60 minutes\n",
      "Processed 500000 ( 29.85% ) in 15.85 seconds. Sample per second: 31541\n",
      "Processed 1000000 ( 59.70% ) in 14.84 seconds. Sample per second: 33513\n",
      "Processed 1500000 ( 89.54% ) in 15.05 seconds. Sample per second: 34051\n",
      "Processed 1675142 ( 100.00% ) in 4.79 seconds. Sample per second: 34331\n",
      "Return S matrix to python caller...\n",
      "Epoch 24 of 30 complete in 1.67 minutes\n",
      "Processed 500000 ( 29.85% ) in 14.71 seconds. Sample per second: 33983\n",
      "Processed 1000000 ( 59.70% ) in 14.40 seconds. Sample per second: 35215\n",
      "Processed 1500000 ( 89.54% ) in 12.89 seconds. Sample per second: 36684\n",
      "Processed 1675142 ( 100.00% ) in 5.24 seconds. Sample per second: 37028\n",
      "Return S matrix to python caller...\n",
      "Epoch 25 of 30 complete in 1.60 minutes\n",
      "Processed 500000 ( 29.85% ) in 15.08 seconds. Sample per second: 33153\n",
      "Processed 1000000 ( 59.70% ) in 14.79 seconds. Sample per second: 33565\n",
      "Processed 1500000 ( 89.54% ) in 13.20 seconds. Sample per second: 35545\n",
      "Processed 1675142 ( 100.00% ) in 4.57 seconds. Sample per second: 35970\n",
      "Return S matrix to python caller...\n",
      "Epoch 26 of 30 complete in 1.63 minutes\n",
      "Processed 500000 ( 29.85% ) in 19.15 seconds. Sample per second: 26110\n",
      "Processed 1000000 ( 59.70% ) in 13.65 seconds. Sample per second: 30628\n",
      "Processed 1500000 ( 89.54% ) in 13.30 seconds. Sample per second: 33114\n",
      "Processed 1675142 ( 100.00% ) in 4.26 seconds. Sample per second: 34006\n",
      "Return S matrix to python caller...\n",
      "Epoch 27 of 30 complete in 1.67 minutes\n",
      "Processed 500000 ( 29.85% ) in 18.06 seconds. Sample per second: 27687\n",
      "Processed 1000000 ( 59.70% ) in 14.13 seconds. Sample per second: 31119\n",
      "Processed 1500000 ( 89.54% ) in 12.11 seconds. Sample per second: 34006\n",
      "Processed 1675142 ( 100.00% ) in 4.36 seconds. Sample per second: 34636\n",
      "Return S matrix to python caller...\n",
      "Epoch 28 of 30 complete in 1.66 minutes\n",
      "Processed 500000 ( 29.85% ) in 17.67 seconds. Sample per second: 28292\n",
      "Processed 1000000 ( 59.70% ) in 14.25 seconds. Sample per second: 32004\n",
      "Processed 1500000 ( 89.54% ) in 13.51 seconds. Sample per second: 33701\n",
      "Processed 1675142 ( 100.00% ) in 5.03 seconds. Sample per second: 34166\n",
      "Return S matrix to python caller...\n",
      "Epoch 29 of 30 complete in 1.68 minutes\n",
      "Fit completed in 47.61 minutes\n",
      "R_hat evaluated...\n"
     ]
    }
   ],
   "source": [
    "# Validation\n",
    "urm, tg_tracks, tg_playlist = ev.get_fold(dataset)\n",
    "\n",
    "slim.set_evaluation_every(10, ev)\n",
    "slim.fit(urm.tocsr(),\n",
    "         icm.tocsr(),\n",
    "         tg_playlist,\n",
    "         tg_tracks,\n",
    "         dataset)\n",
    "\n",
    "slim_recs = slim.predict()"
   ]
  },
  {
   "cell_type": "code",
   "execution_count": 7,
   "metadata": {},
   "outputs": [],
   "source": [
    "# If not present, save SLIM BPR parameters to disk\n",
    "w_path = './data/slim_bpr_parameters.npz'\n",
    "if not os.path.isfile(w_path):\n",
    "    save_sparse_matrix(w_path, slim.getParameters())"
   ]
  },
  {
   "cell_type": "code",
   "execution_count": 10,
   "metadata": {
    "scrolled": false
   },
   "outputs": [
    {
     "name": "stdout",
     "output_type": "stream",
     "text": [
      "CBF started\n",
      "Build tags matrix and apply TFIDF...\n",
      "Running 4 workers...\n",
      "[ 1303 ] Building cosine similarity matrix for [0, 1000)...\n",
      "[ 1304 ] Building cosine similarity matrix for [4319, 5319)...\n",
      "[ 1305 ] Building cosine similarity matrix for [8638, 9638)...\n",
      "[ 1306 ] Building cosine similarity matrix for [12957, 13957)...\n",
      "[ 1305 ] Building cosine similarity matrix for [9638, 10638)...\n",
      "[ 1303 ] Building cosine similarity matrix for [1000, 2000)...\n",
      "[ 1304 ] Building cosine similarity matrix for [5319, 6319)...\n",
      "[ 1306 ] Building cosine similarity matrix for [13957, 14957)...\n",
      "[ 1305 ] Building cosine similarity matrix for [10638, 11638)...\n",
      "[ 1304 ] Building cosine similarity matrix for [6319, 7319)...\n",
      "[ 1306 ] Building cosine similarity matrix for [14957, 15957)...\n",
      "[ 1303 ] Building cosine similarity matrix for [2000, 3000)...\n",
      "[ 1305 ] Building cosine similarity matrix for [11638, 12638)...\n",
      "[ 1306 ] Building cosine similarity matrix for [15957, 16957)...\n",
      "[ 1303 ] Building cosine similarity matrix for [3000, 4000)...\n",
      "[ 1304 ] Building cosine similarity matrix for [7319, 8319)...\n",
      "[ 1305 ] Building cosine similarity matrix for [12638, 12957)...\n",
      "[ 1304 ] Building cosine similarity matrix for [8319, 8638)...\n",
      "[ 1303 ] Building cosine similarity matrix for [4000, 4319)...\n",
      "[ 1306 ] Building cosine similarity matrix for [16957, 17276)...\n",
      "Similarity matrix ready!\n",
      "R_hat done\n",
      "Shape of final matrix:  (4421, 17276)\n",
      "Evaluating CBF...\n",
      "MAP@5: 0.1264623388373674\n",
      "Evaluating SLIM BPR...\n",
      "MAP@5: 0.10071477041393362\n",
      "Evaluating Merged recs...\n",
      "MAP@5: 0.11588253034758354\n"
     ]
    },
    {
     "data": {
      "text/plain": [
       "0.11588253034758354"
      ]
     },
     "execution_count": 10,
     "metadata": {},
     "output_type": "execute_result"
    }
   ],
   "source": [
    "from src.Ensemble.ranked_list_merging import interleaved_merging\n",
    "\n",
    "def merge_ranked_lists(recs):\n",
    "    merged_recs = {}\n",
    "    for playlist in recs[0].keys():\n",
    "        lists = [rec[playlist] for rec in recs]\n",
    "        # Pick 3 from CBF and 2 from IBF\n",
    "        merged = interleaved_merging(lists, [3, 2], topK=5, mode=\"continue\")\n",
    "        merged_recs[playlist] = merged\n",
    "    return merged_recs\n",
    "\n",
    "# Fit models\n",
    "# CBF\n",
    "cbf.fit(urm,\n",
    "        list(tg_playlist),\n",
    "        list(tg_tracks),\n",
    "        dataset)\n",
    "cbf_recs = cbf.predict()\n",
    "print(\"Evaluating CBF...\")\n",
    "ev.evaluate_fold(cbf_recs)\n",
    "\n",
    "# IBF\n",
    "#ibf.fit(urm,\n",
    "#        list(tg_playlist),\n",
    "#        list(tg_tracks),\n",
    "#        dataset)\n",
    "#ibf_recs = ibf.predict()\n",
    "#print(\"Evaluating IBF...\")\n",
    "#ev.evaluate_fold(ibf_recs)\n",
    "\n",
    "print(\"Evaluating SLIM BPR...\")\n",
    "ev.evaluate_fold(slim_recs)\n",
    "\n",
    "merged_recs = merge_ranked_lists([cbf_recs, slim_recs])\n",
    "print(\"Evaluating Merged recs...\")\n",
    "ev.evaluate_fold(merged_recs)"
   ]
  }
 ],
 "metadata": {
  "kernelspec": {
   "display_name": "Python 3",
   "language": "python",
   "name": "python3"
  },
  "language_info": {
   "codemirror_mode": {
    "name": "ipython",
    "version": 3
   },
   "file_extension": ".py",
   "mimetype": "text/x-python",
   "name": "python",
   "nbconvert_exporter": "python",
   "pygments_lexer": "ipython3",
   "version": "3.6.0b2"
  }
 },
 "nbformat": 4,
 "nbformat_minor": 2
}
